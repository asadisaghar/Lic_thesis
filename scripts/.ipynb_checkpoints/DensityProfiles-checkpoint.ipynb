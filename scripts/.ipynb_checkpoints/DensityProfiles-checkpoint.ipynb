{
 "cells": [
  {
   "cell_type": "code",
   "execution_count": 15,
   "metadata": {
    "collapsed": true
   },
   "outputs": [],
   "source": [
    "import numpy as np\n",
    "import matplotlib.pyplot as plt\n",
    "import scipy.integrate as scpi\n",
    "import matplotlib.mlab as mlab\n",
    "ticksize=45\n",
    "labelsize=45\n",
    "textsize=45\n",
    "legendsize=45\n",
    "titlesize=45\n",
    "import matplotlib.ticker as plticker"
   ]
  },
  {
   "cell_type": "code",
   "execution_count": 16,
   "metadata": {
    "collapsed": false
   },
   "outputs": [],
   "source": [
    "r = np.logspace(-3,3,100)\n",
    "r_tst = np.logspace(-3,-2,10)\n",
    "r_s = 1.\n",
    "rho_1 = 1./r_tst\n",
    "rho_2 = 1./r_tst**2\n",
    "rho_3 = 2./r_tst**3\n",
    "\n",
    "rho_s_nfw = 4.\n",
    "\n",
    "r_t_jaffe = np.logspace(-3,0, 10)\n",
    "rho_s_jaffe = (1+r_t_jaffe[-1])**2\n",
    "\n",
    "alpha_einasto = [0.01, 0.1, 1.0]"
   ]
  },
  {
   "cell_type": "code",
   "execution_count": 17,
   "metadata": {
    "collapsed": false
   },
   "outputs": [],
   "source": [
    "rho_nfw = rho_s_jaffe/(r*(1+r)**2)\n",
    "rho_jaffe = rho_s_jaffe/(r_t_jaffe**2*(r_t_jaffe+r_t_jaffe[-1])**2)\n",
    "rho_einasto0 = np.exp((-2./alpha_einasto[0])*(1+r**alpha_einasto[0]))\n",
    "rho_einasto1 = np.exp((-2./alpha_einasto[1])*(1+r**alpha_einasto[1]))\n",
    "rho_einasto2 = np.exp((-2./alpha_einasto[2])*(1+r**alpha_einasto[2]))"
   ]
  },
  {
   "cell_type": "code",
   "execution_count": 18,
   "metadata": {
    "collapsed": false
   },
   "outputs": [],
   "source": [
    "fig=plt.figure(figsize=(10,10))\n",
    "ax=fig.add_subplot(111)\n",
    "ax.loglog(r, rho_nfw/np.max(rho_nfw), '#3288bd', linewidth=2, label=\"NFW\")\n",
    "ax.loglog(r_t_jaffe, rho_jaffe/np.max(rho_jaffe), '#1b7837', linewidth=2, label=\"p-Jaffe-$r_t=r_s$\")\n",
    "ax.loglog(r, rho_einasto0/np.max(rho_einasto0), '#f16913', linewidth=2, label=\"Einasto-$\\\\alpha=0.01$\")\n",
    "ax.loglog(r, rho_einasto1/np.max(rho_einasto1), '#d94801', linewidth=2, label=\"Einasto-$\\\\alpha=0.1$\")\n",
    "ax.loglog(r, rho_einasto2/np.max(rho_einasto2), '#8c2d04', linewidth=2, label=\"Einasto-$\\\\alpha=1$\")\n",
    "ax.loglog(r_tst, 1e-7*rho_1/np.max(rho_1), 'k', linewidth=2)\n",
    "ax.loglog(r_tst, 1e-7*rho_2/np.max(rho_2), 'k', linewidth=2)\n",
    "ax.loglog(r_tst, 1e-7*rho_3/np.max(rho_3), 'k', linewidth=2)\n",
    "ax.set_xlabel(r'$r/r_s$', fontsize=25)\n",
    "ax.set_ylabel(r'$\\rho/\\rho_s$', fontsize=25)\n",
    "plt.ylim(1e-10, 1e1)\n",
    "plt.legend(loc=\"upper right\")\n",
    "plt.text(1.5e-2, 9e-9, \"$r^{-1}$\", fontsize=25)\n",
    "plt.text(1.5e-2, 1e-9, \"$r^{-2}$\", fontsize=25)\n",
    "plt.text(1.5e-2, 1.2e-10, \"$r^{-3}$\", fontsize=25)\n",
    "plt.show()"
   ]
  },
  {
   "cell_type": "code",
   "execution_count": null,
   "metadata": {
    "collapsed": true
   },
   "outputs": [],
   "source": []
  }
 ],
 "metadata": {
  "kernelspec": {
   "display_name": "Python 2",
   "language": "python",
   "name": "python2"
  },
  "language_info": {
   "codemirror_mode": {
    "name": "ipython",
    "version": 2
   },
   "file_extension": ".py",
   "mimetype": "text/x-python",
   "name": "python",
   "nbconvert_exporter": "python",
   "pygments_lexer": "ipython2",
   "version": "2.7.10"
  }
 },
 "nbformat": 4,
 "nbformat_minor": 0
}
